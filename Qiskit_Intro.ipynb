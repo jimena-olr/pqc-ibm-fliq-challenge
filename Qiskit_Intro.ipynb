{
  "nbformat": 4,
  "nbformat_minor": 0,
  "metadata": {
    "colab": {
      "provenance": []
    },
    "kernelspec": {
      "name": "python3",
      "display_name": "Python 3"
    },
    "language_info": {
      "name": "python"
    }
  },
  "cells": [
    {
      "cell_type": "markdown",
      "source": [
        "🧪 Qiskit Installation & Setup for Hackathon Participants           \n",
        "Welcome to the AI For Good Hackathon! This notebook will guide you through installing Qiskit and preparing your environment to develop and run quantum programs. By the end, you'll be ready to build and execute quantum circuits using Qiskit.​"
      ],
      "metadata": {
        "id": "QNsKP7Wk2G-K"
      }
    },
    {
      "cell_type": "markdown",
      "source": [
        "🔧 Step 1: Set Up a Python Virtual Environment\n",
        "Creating a virtual environment helps isolate your project dependencies and avoid conflicts."
      ],
      "metadata": {
        "id": "vpEFa68u510n"
      }
    },
    {
      "cell_type": "code",
      "source": [
        "# For macOS/Linux:\n",
        "python3 -m venv qiskit_env\n",
        "source qiskit_env/bin/activate"
      ],
      "metadata": {
        "id": "FDlNwWYD6B5o"
      },
      "execution_count": null,
      "outputs": []
    },
    {
      "cell_type": "code",
      "source": [
        "# For Windows (Command Prompt):\n",
        "python -m venv qiskit_env\n",
        "qiskit_env\\Scripts\\activate"
      ],
      "metadata": {
        "id": "2rJgW2t56ZaN"
      },
      "execution_count": null,
      "outputs": []
    },
    {
      "cell_type": "code",
      "source": [
        "# For Windows (PowerShell):\n",
        "python -m venv qiskit_env\n",
        "qiskit_env\\Scripts\\Activate.ps1"
      ],
      "metadata": {
        "id": "cC8ysmvt6gdJ"
      },
      "execution_count": null,
      "outputs": []
    },
    {
      "cell_type": "markdown",
      "source": [
        "📦 Step 2: Install Qiskit and Jupyter Notebook      \n",
        "With your virtual environment activated, install Qiskit along with visualization support and Jupyter Notebook:​"
      ],
      "metadata": {
        "id": "YEcg3P6Y7Awe"
      }
    },
    {
      "cell_type": "code",
      "source": [
        "pip install qiskit[visualization]\n",
        "pip install jupyter"
      ],
      "metadata": {
        "id": "_mUcQMVf7DKG"
      },
      "execution_count": null,
      "outputs": []
    },
    {
      "cell_type": "markdown",
      "source": [
        "🚀 Step 3: Launch Jupyter Notebook        \n",
        "Start Jupyter Notebook to begin coding. This command will open the Jupyter interface in your default web browser, create a new Python 3 notebook to proceed:"
      ],
      "metadata": {
        "id": "47C4HR1a9QNo"
      }
    },
    {
      "cell_type": "code",
      "source": [
        "jupyter notebook\n"
      ],
      "metadata": {
        "id": "KwT6Mwra9RY_"
      },
      "execution_count": null,
      "outputs": []
    },
    {
      "cell_type": "markdown",
      "source": [
        "✅ Step 4: Verify Your Installation         \n",
        "In a new Jupyter Notebook cell, run the following code to verify that Qiskit is installed correctly, you should see the version information for Qiskit components:"
      ],
      "metadata": {
        "id": "WFgU4OST9tso"
      }
    },
    {
      "cell_type": "code",
      "source": [
        "import qiskit\n",
        "print(\"Qiskit version:\", qiskit.__qiskit_version__)\n"
      ],
      "metadata": {
        "id": "yywcom1e-MHq"
      },
      "execution_count": null,
      "outputs": []
    },
    {
      "cell_type": "markdown",
      "source": [
        "🔐 Step 5: Configure Access to IBM Quantum Systems (Optional)             \n",
        "To run your quantum circuits on real quantum hardware provided by IBM, follow these steps:​\n",
        "1.   Create an IBM Quantum account at https://quantum.ibm.com.\n",
        "2.   After logging in, navigate to your account settings and copy your API token.\n",
        "3. In your Jupyter Notebook, run the following code to save your account credentials:\n",
        "4. Replace 'YOUR_API_TOKEN' with the token you copied. This will store your credentials locally for future sessions.​"
      ],
      "metadata": {
        "id": "ugvxGVcf-7b2"
      }
    },
    {
      "cell_type": "code",
      "source": [
        "from qiskit import IBMQ\n",
        "IBMQ.save_account('YOUR_API_TOKEN')\n"
      ],
      "metadata": {
        "id": "bypmlCFC-0OE"
      },
      "execution_count": null,
      "outputs": []
    },
    {
      "cell_type": "markdown",
      "source": [
        "🧪 Step 6: Run a Sample Quantum Circuit           \n",
        "To make sure everything's setup correctly, let's create and visualize a simple quantum circuit. This code will create a quantum circuit that places a qubit into a superposition state and measures it. The histogram shows the probability distribution of the measurement outcomes:​"
      ],
      "metadata": {
        "id": "wV7y07FX_eEe"
      }
    },
    {
      "cell_type": "code",
      "source": [
        "from qiskit import QuantumCircuit, Aer, execute\n",
        "from qiskit.visualization import plot_histogram\n",
        "import matplotlib.pyplot as plt\n",
        "\n",
        "# Create a quantum circuit with 1 qubit and 1 classical bit\n",
        "qc = QuantumCircuit(1, 1)\n",
        "\n",
        "# Apply a Hadamard gate to put the qubit into superposition\n",
        "qc.h(0)\n",
        "\n",
        "# Measure the qubit\n",
        "qc.measure(0, 0)\n",
        "\n",
        "# Execute the circuit on the qasm simulator\n",
        "backend = Aer.get_backend('qasm_simulator')\n",
        "job = execute(qc, backend, shots=1024)\n",
        "result = job.result()\n",
        "\n",
        "# Get the counts (number of times each result occurred)\n",
        "counts = result.get_counts(qc)\n",
        "\n",
        "# Plot the results\n",
        "plot_histogram(counts)\n",
        "plt.show()\n"
      ],
      "metadata": {
        "id": "tDqbKFCl_d3F"
      },
      "execution_count": null,
      "outputs": []
    },
    {
      "cell_type": "markdown",
      "source": [
        "You're now set up to start developing quantum applications with Qiskit. Good luck with your challenge!​"
      ],
      "metadata": {
        "id": "tNl4g0liBGjJ"
      }
    },
    {
      "cell_type": "markdown",
      "source": [
        "🧠 Additional Resources    \n",
        "\n",
        "*   https://docs.quantum.ibm.com/\n",
        "*   https://qiskit.org/textbook/\n",
        "*   https://quantum.ibm.com/\n",
        "\n",
        "\n"
      ],
      "metadata": {
        "id": "x1cSrKmWA1IG"
      }
    }
  ]
}