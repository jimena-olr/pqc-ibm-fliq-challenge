{
 "cells": [
  {
   "cell_type": "markdown",
   "id": "9cbb8fc8",
   "metadata": {},
   "source": [
    "\n",
    "# **Title of Your Work**  \n",
    "*Team Members:*  \n",
    "\n",
    "> ✅ **Reminder:** Alongside this notebook, submit your final local testing script as a `.py` file. This script should help check correctness before sending jobs to real quantum hardware.\n"
   ]
  },
  {
   "cell_type": "markdown",
   "id": "d3aec3ec",
   "metadata": {},
   "source": [
    "\n",
    "## **Introduction**\n",
    "\n",
    "Briefly introduce the algorithm you chose.  \n",
    "What problem does it solve? Why is it interesting or important to teach?  "
   ]
  },
  {
   "cell_type": "markdown",
   "id": "355a82cf",
   "metadata": {},
   "source": [
    "\n",
    "## **Learning Goals**\n",
    "\n",
    "List what the reader should be able to understand or do by the end of your tutorial.  \n",
    "For example:\n",
    "- Understand the problem the algorithm addresses.\n",
    "- Follow the mathematical reasoning behind the algorithm.\n",
    "- Know how each part of the quantum circuit contributes to the solution.\n",
    "- Successfully run the algorithm on both a simulator and real quantum hardware.\n"
   ]
  },
  {
   "cell_type": "markdown",
   "id": "5c2afe6f",
   "metadata": {},
   "source": [
    "\n",
    "## **Background**\n",
    "\n",
    "Provide the necessary background to understand the algorithm.  \n",
    "Explain any key quantum principles, math concepts, or notation that your audience needs.  \n"
   ]
  },
  {
   "cell_type": "markdown",
   "id": "f89ff499",
   "metadata": {},
   "source": [
    "\n",
    "## **Step-by-Step Algorithm Explanation**\n",
    "\n",
    "Break down the algorithm carefully, step by step.\n",
    "\n",
    "If helpful, include diagrams, circuits, or pseudocode alongside your explanations.\n"
   ]
  },
  {
   "cell_type": "markdown",
   "id": "3760f514",
   "metadata": {},
   "source": [
    "\n",
    "## **Exercises (Recommended)**\n",
    "\n",
    "Include small exercises that help readers engage with the material.  \n",
    "These could be:\n",
    "- Conceptual questions.\n",
    "- Code challenges.\n",
    "- Small tasks to modify a circuit and observe the changes.\n",
    "\n",
    "> These exercises should build toward your final example. Make sure they help reinforce learning without being too difficult.\n"
   ]
  },
  {
   "cell_type": "markdown",
   "id": "39bc2e12",
   "metadata": {},
   "source": [
    "\n",
    "## **Implementation of the Algorithm**\n",
    "\n",
    "Provide your full implementation of the algorithm in Qiskit.\n",
    "\n",
    "- Explain what each part of your code does.\n",
    "- Include comments or markdown cells to clarify key ideas.\n",
    "- Encourage readers to adjust parameters and experiment with the code where appropriate.\n"
   ]
  },
  {
   "cell_type": "code",
   "execution_count": null,
   "id": "76a4236d",
   "metadata": {},
   "outputs": [],
   "source": [
    "\n",
    "# Your algorithm implementation here\n",
    "# Include code and explanations\n"
   ]
  },
  {
   "cell_type": "markdown",
   "id": "8f31c432",
   "metadata": {},
   "source": [
    "\n",
    "## **Local Testing Script Explanation**\n",
    "\n",
    "Describe how your separate `.py` testing script works.\n",
    "\n",
    "- What does the script check?\n",
    "- How can the reader use it to verify correctness before running on real hardware?\n"
   ]
  },
  {
   "cell_type": "code",
   "execution_count": null,
   "id": "d7bd2592",
   "metadata": {},
   "outputs": [],
   "source": [
    "\n",
    "# This notebook cell could call your test functions to show how they work\n",
    "# Your actual testing logic should be in the separate .py file\n"
   ]
  },
  {
   "cell_type": "markdown",
   "id": "a55b49e3",
   "metadata": {},
   "source": [
    "\n",
    "## **Example Running on Real Quantum Hardware**\n",
    "\n",
    "Demonstrate how to run your algorithm on an actual IBM Quantum backend.\n",
    "\n",
    "- Which backend did you choose?\n",
    "- Why is this backend appropriate (number of qubits, connectivity, etc.)?\n",
    "- Include:\n",
    "  - Code for selecting the backend.\n",
    "  - Job submission.\n",
    "  - Saving the Job ID.\n",
    "  - Retrieving and displaying results.\n"
   ]
  },
  {
   "cell_type": "code",
   "execution_count": null,
   "id": "5eae6b2b",
   "metadata": {},
   "outputs": [],
   "source": [
    "\n",
    "# Example hardware submission code\n"
   ]
  },
  {
   "cell_type": "markdown",
   "id": "90e71c05",
   "metadata": {},
   "source": [
    "\n",
    "## **Estimate of Hardware Runtime**\n",
    "\n",
    "Provide a clear estimate of the runtime for your job on the chosen backend.\n",
    "\n",
    "- Number of qubits:  \n",
    "- Circuit depth:  \n",
    "- Number of shots:  \n",
    "- Estimated device runtime (excluding queue time):  \n",
    "\n",
    "If your estimated runtime is close to or exceeds 5 minutes, suggest ways to reduce it (e.g., fewer shots, smaller problem instance).\n"
   ]
  },
  {
   "cell_type": "markdown",
   "id": "d9f6a66d",
   "metadata": {},
   "source": [
    "\n",
    "## **Result Visualization**\n",
    "\n",
    "Use clear visualizations to help explain what your results mean.  \n",
    "This could include:\n",
    "- Measurement outcome bar plots.\n",
    "- Circuit diagrams.\n",
    "- Comparisons between simulator and hardware results.\n"
   ]
  },
  {
   "cell_type": "code",
   "execution_count": null,
   "id": "759a807b",
   "metadata": {},
   "outputs": [],
   "source": [
    "\n",
    "# Example result visualization code\n"
   ]
  },
  {
   "cell_type": "markdown",
   "id": "def03f10",
   "metadata": {},
   "source": [
    "\n",
    "## **Optional: Tunable final example**\n",
    "\n",
    "Consider making your final example adjustable.  \n",
    "Encourage readers to modify parameters such as:\n",
    "- Number of qubits.\n",
    "- Oracle or input values.\n",
    "- Number of shots.\n",
    "\n",
    "Let readers explore how these choices affect the results.\n"
   ]
  },
  {
   "cell_type": "markdown",
   "id": "9ad74d79",
   "metadata": {},
   "source": [
    "\n",
    "## **Submission Instructions**\n",
    "\n",
    "Please submit your GitHub repository link via the submission form on the AI for Good website.  \n",
    "Ensure your repository contains:\n",
    "- This notebook.  \n",
    "- Your `.py` testing script.  \n",
    "- Any additional files needed (optional: README.md with run instructions).  \n",
    "\n",
    "Your notebook should render correctly on GitHub without extra setup.\n"
   ]
  },
  {
   "cell_type": "markdown",
   "id": "f1b5aeb3",
   "metadata": {},
   "source": [
    "Notebook made by Jaime Salazar and Jimena Olivares Rivera from the Penn Quantum Computing Club."
   ]
  }
 ],
 "metadata": {
  "language_info": {
   "name": "python"
  }
 },
 "nbformat": 4,
 "nbformat_minor": 5
}
