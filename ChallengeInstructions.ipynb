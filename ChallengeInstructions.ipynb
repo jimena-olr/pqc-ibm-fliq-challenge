{
 "cells": [
  {
   "cell_type": "markdown",
   "id": "48ef8d26",
   "metadata": {},
   "source": [
    "![Banner](https://drive.google.com/uc?export=view&id=11WORYaIpNXHLb8olVeN7r21g6Imm_1kA)\n"
   ]
  },
  {
   "cell_type": "markdown",
   "id": "a7244144",
   "metadata": {},
   "source": [
    "# Challenge Format\n"
   ]
  },
  {
   "cell_type": "markdown",
   "id": "8b7f4ab7",
   "metadata": {},
   "source": [
    "The challenge is to design and implement an algorithm which can implement a\n",
    "class of states in an efficient manner, taking real hardware into account.\n",
    "Your algorithm should be compared to a “naive” approach of implementing the\n",
    "given state. What is important is not how fast your algorithm to prepare the state\n",
    "runs, but how good the quantum state would be on an actual Quantum Device. This\n",
    "means the depth for a given hardware layout should be not be too big, and the\n",
    "error rate when preparing the state (on a noisy simulator) should be low.\n",
    "\n",
    "---We need to do something like this but for telling people how to implement Quantum Algorithms\n",
    "-- here's where we tell people this is through a jupyter notebook and that their implementation must leverage quantum principles using Qiskit, and that they can find more information on deliverables below\n",
    "\n",
    "## add a pic or smth here"
   ]
  },
  {
   "cell_type": "markdown",
   "id": "62d78cf9",
   "metadata": {},
   "source": [
    "### Some of the Possible Algorithms To Implement (this but better phrased)\n",
    "\n",
    "//make a list with shor's algorithm, Grover's search etc etc (we can include like images or put this in a pretty format)"
   ]
  },
  {
   "cell_type": "markdown",
   "id": "6ae767bf",
   "metadata": {},
   "source": [
    "### Team Formation\n",
    "\n",
    "Once you’ve reviewed the challenge format, you should connect with other attendees to form a group!\n",
    "Group up in teams of up to 5 members. \n",
    "\n",
    "#### Roles \n",
    "\n",
    "To make it easier for you to organize your team, we have\n",
    "listed some roles which might be distributed among the\n",
    "team. This is a suggestion & is not required to be used.\n",
    "Of course, it’s still fundamental to discuss, brainstorm,\n",
    "and help the rest of the team, even if you use these roles.\n",
    "\n",
    "This stuff is in my iPad, i should add some stuff here too\n",
    "\n",
    "### we should add some images here, if we can make them from like vecteezy and stuff that isn't copyrighted with the attributions this would work"
   ]
  },
  {
   "cell_type": "markdown",
   "id": "9f288cdf",
   "metadata": {},
   "source": [
    "Project Submission:\n",
    "\n",
    "This is what you are required to submit in order to be eligible for the judging phase.\n",
    "Page 06\n",
    "To make it easy for the judges we request you to submit a single Jupyter Notebook\n",
    "on a GitHub page containing all the content you want to be judged.\n",
    "It should be able to be viewed directly online and contain the following parts:\n",
    "• A description of the set of states you want to prepare.\n",
    "• A short introduction on why these states are interesting, and what the challenges\n",
    "are in preparing them.\n",
    "• An explanation of your idea on how to prepare these states in a good/better way.\n",
    "• If possible, use visualization to make the explanation easier to understand.\n",
    "• Runnable Python code using Qiskit which prepares this state both in a “simple”\n",
    "way and in your improved way.\n",
    "• A results section where you compare your improved way of preparation with the\n",
    "default one, comparing one or more of the following factors: depth, number of\n",
    "entangling gates, error rate of the state (on a noisy simulator).\n",
    "Jupyter Notebook\n",
    "\n",
    "kind of the same as deliverabler but not really, we need to cross check this so i'm not asking for the same things twice"
   ]
  },
  {
   "cell_type": "markdown",
   "id": "00b33d9e",
   "metadata": {},
   "source": [
    "DEADLINES! Check this in the AI for Good website"
   ]
  },
  {
   "cell_type": "markdown",
   "id": "aa3352a0",
   "metadata": {},
   "source": [
    "Deliverables\n",
    " Required:   \n",
    " Functional Jupyter Notebook:\n",
    " All code works on local qiskit installations Windows and Mac\n",
    " Code runs in qBraid: lab.qbraid.com\n",
    " 1 Exercise running on real hardware highlighting your experiment.\n",
    " Includes code (in a separate .py file) which can be used to test correctness of code before submitting it to the real device. (Like a local grader).\n",
    " Includes estimated time to run on real device and keep the required time reasonable.\n",
    " Includes code to submit job and save JobID to later get job result.\n",
    " Includes code to visualize the result in a suitable way. (This enables people to share results with others.)\n",
    " Consistent text explaining the specific use case, which is uses as an example, as well as the functionality of the experiment you are presenting.\n"
   ]
  },
  {
   "cell_type": "markdown",
   "id": "bf4e691d",
   "metadata": {},
   "source": [
    " Nice to haves:     \n",
    " 1-3 additional exercises leading towards the final exercise which runs on the real device.\n",
    " All with explanation and if possible, code to check correctness.\n",
    " The final exercise being tuneable with different parameters, maybe even different approaches.\n",
    " This way people can try to find the best possible solution and compare with others.\n",
    " Exercise which requires thinking, not just simple code completion. Goal should be to teach participants new concepts, techniques and tricks.\n",
    " Meaning you need an actual human, not just a simple code AI to solve it.\n",
    " Good looking visualizations helping to understand concepts. Images, sketches, diagrams etc. All help the exercise to stand out more and make it easier to understand for participants.\n",
    " Don’ts:\n",
    " The exercise should not read like a sales pitch. Main goal is education.\n"
   ]
  },
  {
   "cell_type": "markdown",
   "id": "0647b02f",
   "metadata": {},
   "source": [
    "// we need to check what's up with the \"reasonable time\""
   ]
  },
  {
   "cell_type": "markdown",
   "id": "3a0ae85b",
   "metadata": {},
   "source": [
    "Tutorial aspect:\n",
    " Of course, you should still highlight with the use case example etc. how the function helps to solve hard problems.\n",
    " Making a pure tutorial which runs without user input. This should be an exercise/challenge to users.\n",
    " Naturally don’t make it too hard since you want people to be able to solve it."
   ]
  },
  {
   "cell_type": "markdown",
   "id": "7c2bc8ec",
   "metadata": {},
   "source": [
    "### Judging Criteria\n",
    "\n",
    "Below is the criteria our expert panel of judges will be using to select the top team.\n",
    " This is also on my iPad, we need to ask Marcel what's up with this whenever we ask for feedback"
   ]
  },
  {
   "cell_type": "markdown",
   "id": "8219d42a",
   "metadata": {},
   "source": [
    "### Prizes and Awards\n",
    "\n",
    "![Prizes and Awards Info](https://drive.google.com/uc?export=view&id=1uuJOsdF0MBRX6_5EeZEeEaEhnYiPxudh)"
   ]
  },
  {
   "cell_type": "markdown",
   "id": "7603506e",
   "metadata": {},
   "source": [
    "### Resources\n",
    "\n",
    "For more information on Python, Qiskit, and features and libraries we recommend for this implementation, please refer to our tutorials and resources page in this repository (include a hyperlink to this)."
   ]
  }
 ],
 "metadata": {
  "language_info": {
   "name": "python"
  }
 },
 "nbformat": 4,
 "nbformat_minor": 5
}
