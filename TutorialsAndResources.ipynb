{
 "cells": [
  {
   "cell_type": "markdown",
   "id": "2361ea0d",
   "metadata": {},
   "source": [
    "TUTORIALS AND RESOURCES"
   ]
  }
 ],
 "metadata": {
  "language_info": {
   "name": "python"
  }
 },
 "nbformat": 4,
 "nbformat_minor": 5
}
